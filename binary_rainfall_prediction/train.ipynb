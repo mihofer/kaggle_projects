{
 "cells": [
  {
   "cell_type": "code",
   "execution_count": 1,
   "metadata": {},
   "outputs": [],
   "source": [
    "# !kaggle competitions download -c playground-series-s5e3\n",
    "# !unzip -u *.zip"
   ]
  },
  {
   "cell_type": "code",
   "execution_count": null,
   "metadata": {},
   "outputs": [],
   "source": [
    "from pathlib import Path\n",
    "\n",
    "import numpy as np\n",
    "import pandas as pd\n",
    "import matplotlib.pyplot as plt\n",
    "import seaborn as sns\n",
    "\n",
    "import missingno\n",
    "\n",
    "from sklearn import set_config\n",
    "set_config(transform_output = \"pandas\")\n",
    "\n",
    "from sklearn.model_selection import ShuffleSplit, KFold, StratifiedKFold\n",
    "from sklearn.model_selection import cross_validate, GridSearchCV\n",
    "\n",
    "from sklearn.pipeline import Pipeline\n",
    "from sklearn.compose import ColumnTransformer\n",
    "from sklearn.preprocessing import MinMaxScaler, OneHotEncoder\n",
    "\n",
    "from sklearn.tree import DecisionTreeClassifier\n",
    "from lightgbm import LGBMClassifier\n",
    "from xgboost import XGBClassifier\n",
    "\n",
    "KAGGLE_RUN = False\n",
    "if KAGGLE_RUN:\n",
    "    working_dir = Path('/kaggle/input/playground-series-s5e3')\n",
    "else:\n",
    "    working_dir = Path().cwd()"
   ]
  },
  {
   "cell_type": "code",
   "execution_count": null,
   "metadata": {},
   "outputs": [],
   "source": [
    "train_df = pd.read_csv(working_dir/'train.csv', index_col='id')\n",
    "test_df = pd.read_csv(working_dir/'test.csv', index_col='id')\n"
   ]
  },
  {
   "cell_type": "code",
   "execution_count": null,
   "metadata": {},
   "outputs": [],
   "source": [
    "train_df"
   ]
  },
  {
   "cell_type": "code",
   "execution_count": null,
   "metadata": {},
   "outputs": [],
   "source": [
    "NUMERIC_COLUMNS=['day', 'pressure', 'maxtemp', 'temparature', 'mintemp', 'dewpoint', 'humidity', 'cloud', 'sunshine', 'winddirection', 'windspeed']\n",
    "CATEGORIC_COLUMNS=[]\n",
    "TARGET_COLUMN=['rainfall']\n",
    "ALL_COLUMNS=NUMERIC_COLUMNS+CATEGORIC_COLUMNS+TARGET_COLUMN"
   ]
  },
  {
   "cell_type": "code",
   "execution_count": null,
   "metadata": {},
   "outputs": [],
   "source": [
    "# feature engineering\n",
    "#  add lag, fourier features, spreads, binning, days with maxtemp< temaparature, etc.\n"
   ]
  },
  {
   "cell_type": "code",
   "execution_count": null,
   "metadata": {},
   "outputs": [],
   "source": [
    "\n",
    "target = train_df[TARGET_COLUMN]\n",
    "train = train_df.drop(columns=TARGET_COLUMN)\n",
    "test = test_df\n"
   ]
  },
  {
   "cell_type": "code",
   "execution_count": null,
   "metadata": {},
   "outputs": [],
   "source": [
    "target"
   ]
  },
  {
   "cell_type": "code",
   "execution_count": null,
   "metadata": {},
   "outputs": [],
   "source": [
    "train"
   ]
  },
  {
   "cell_type": "code",
   "execution_count": null,
   "metadata": {},
   "outputs": [],
   "source": [
    "transformer = ColumnTransformer(\n",
    "    transformers=[\n",
    "        ('numeric', MinMaxScaler(), NUMERIC_COLUMNS),\n",
    "        ('categories', OneHotEncoder(sparse_output=False), []),\n",
    "    ], remainder='passthrough'\n",
    ")\n",
    "\n",
    "classifier = XGBClassifier()\n",
    "\n",
    "pipe = Pipeline(\n",
    "    steps=[\n",
    "        ('transform_columns', transformer),\n",
    "        ('classifier', classifier)\n",
    "        ]\n",
    "        )\n"
   ]
  },
  {
   "cell_type": "code",
   "execution_count": null,
   "metadata": {},
   "outputs": [],
   "source": [
    "cv_results = cross_validate(\n",
    "    pipe,\n",
    "    train,\n",
    "    target,\n",
    "    cv=KFold(n_splits=3),\n",
    "    scoring=\"roc_auc\",\n",
    "    n_jobs=2\n",
    ")\n",
    "\n",
    "errors_tree_regressor = pd.Series(\n",
    "    -cv_results[\"test_score\"]\n",
    ")\n",
    "errors_tree_regressor.describe()"
   ]
  },
  {
   "cell_type": "code",
   "execution_count": null,
   "metadata": {},
   "outputs": [],
   "source": [
    "\n",
    "cv_search = GridSearchCV(\n",
    "    estimator = pipe,\n",
    "    param_grid={\n",
    "        'classifier__n_estimators':[100, 50, 10],\n",
    "        # 'classifier__criterion':['squared_error', 'friedman_mse', 'poisson'],\n",
    "    },\n",
    "    scoring=\"roc_auc\",\n",
    "    n_jobs=3,\n",
    ")\n",
    "\n",
    "search_results = cv_search.fit(\n",
    "    train,\n",
    "    target\n",
    ")\n"
   ]
  },
  {
   "cell_type": "code",
   "execution_count": null,
   "metadata": {},
   "outputs": [],
   "source": [
    "cv_search.best_params_"
   ]
  },
  {
   "cell_type": "code",
   "execution_count": null,
   "metadata": {},
   "outputs": [],
   "source": [
    "sub_df = pd.DataFrame(\n",
    "    index=test.index,\n",
    "    data={\n",
    "        'num_sold':cv_search.predict(test)\n",
    "    }\n",
    ")\n",
    "sub_df    \n"
   ]
  },
  {
   "cell_type": "code",
   "execution_count": null,
   "metadata": {},
   "outputs": [],
   "source": [
    "if KAGGLE_RUN:\n",
    "    sub_df.to_csv(\"/kaggle/working/submission.csv\")\n",
    "    !head /kaggle/working/submission.csv"
   ]
  }
 ],
 "metadata": {
  "kernelspec": {
   "display_name": "Python 3",
   "language": "python",
   "name": "python3"
  },
  "language_info": {
   "codemirror_mode": {
    "name": "ipython",
    "version": 3
   },
   "file_extension": ".py",
   "mimetype": "text/x-python",
   "name": "python",
   "nbconvert_exporter": "python",
   "pygments_lexer": "ipython3",
   "version": "3.12.7"
  }
 },
 "nbformat": 4,
 "nbformat_minor": 2
}
